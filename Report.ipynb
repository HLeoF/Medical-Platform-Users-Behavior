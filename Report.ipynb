{
 "cells": [
  {
   "cell_type": "code",
   "execution_count": 166,
   "id": "d62db267",
   "metadata": {},
   "outputs": [],
   "source": [
    "import pandas as pd\n",
    "import numpy as np \n",
    "import plotly.express as ex \n",
    "import plotly.graph_objects as go"
   ]
  },
  {
   "cell_type": "markdown",
   "id": "3e395f25",
   "metadata": {},
   "source": [
    "# 数据清洗&预处理"
   ]
  },
  {
   "cell_type": "code",
   "execution_count": 417,
   "id": "fa48eec9-fb01-499b-9e38-b6e7dd147e46",
   "metadata": {},
   "outputs": [],
   "source": [
    "#加载三张数据集\n",
    "user_df = pd.read_csv('databases/user—test.csv',encoding='gb2312')\n",
    "order_df = pd.read_csv('databases/Order-test.csv')\n",
    "consult_df = pd.read_csv('databases/consult-test.csv')"
   ]
  },
  {
   "cell_type": "markdown",
   "id": "0bf1e977",
   "metadata": {},
   "source": [
    "## 处理 User 表格"
   ]
  },
  {
   "cell_type": "code",
   "execution_count": 418,
   "id": "bc4bbf4e",
   "metadata": {},
   "outputs": [
    {
     "name": "stdout",
     "output_type": "stream",
     "text": [
      "<class 'pandas.core.frame.DataFrame'>\n",
      "RangeIndex: 870460 entries, 0 to 870459\n",
      "Data columns (total 11 columns):\n",
      " #   Column          Non-Null Count   Dtype  \n",
      "---  ------          --------------   -----  \n",
      " 0   user_id         870460 non-null  int64  \n",
      " 1   sex             62753 non-null   object \n",
      " 2   age             61970 non-null   float64\n",
      " 3   country         866918 non-null  object \n",
      " 4   province_name   866918 non-null  object \n",
      " 5   city_name       866918 non-null  object \n",
      " 6   city_level      863913 non-null  object \n",
      " 7   is_member_flag  870460 non-null  int64  \n",
      " 8   first_day       811277 non-null  object \n",
      " 9   last_day        870460 non-null  object \n",
      " 10  be_member_time  596011 non-null  object \n",
      "dtypes: float64(1), int64(2), object(8)\n",
      "memory usage: 73.1+ MB\n",
      "None \n",
      "\n"
     ]
    }
   ],
   "source": [
    "print(user_df.info(),\"\\n\")"
   ]
  },
  {
   "cell_type": "code",
   "execution_count": 419,
   "id": "eb7ed074",
   "metadata": {},
   "outputs": [],
   "source": [
    "# 这里 sex & age Missing value 是80w+, 这个数据集总共才87W, 缺失值总共约占数据集92%\n",
    "# 直接去掉这两行\n",
    "user_df = user_df.drop(['sex','age'],axis=1)"
   ]
  },
  {
   "cell_type": "code",
   "execution_count": 420,
   "id": "a46ad3da",
   "metadata": {},
   "outputs": [
    {
     "name": "stdout",
     "output_type": "stream",
     "text": [
      "user_id                0\n",
      "country             3542\n",
      "province_name       3542\n",
      "city_name           3542\n",
      "city_level          6547\n",
      "is_member_flag         0\n",
      "first_day          59183\n",
      "last_day               0\n",
      "be_member_time    274449\n",
      "dtype: int64\n",
      "(870460, 9)\n"
     ]
    }
   ],
   "source": [
    "# 查看province_name 为缺失值有3542个，由于省名缺失，对后续分析有影响。\n",
    "# 所以,直接将这三千多行数据去掉，约占总数据集的0.4%，影响不大\n",
    "# user_df = user_df.dropna(subset=['province_name'])\n",
    "# columnlist = user_df.columns.values\n",
    "print(user_df.isna().sum())\n",
    "print(user_df.shape)"
   ]
  },
  {
   "cell_type": "code",
   "execution_count": 421,
   "id": "4580c935",
   "metadata": {},
   "outputs": [],
   "source": [
    "#缺失city_level这些地方属于一些特殊的省直管县级市，按照这种方法，使用‘其他城市’去替换Nan\n",
    "user_df['city_level'] = user_df['city_level'].fillna(\"其他城市\")"
   ]
  },
  {
   "cell_type": "code",
   "execution_count": 422,
   "id": "f45f3593",
   "metadata": {},
   "outputs": [
    {
     "data": {
      "text/plain": [
       "np.int64(0)"
      ]
     },
     "execution_count": 422,
     "metadata": {},
     "output_type": "execute_result"
    }
   ],
   "source": [
    "#检测是否有重复row\n",
    "user_df.duplicated().sum()\n"
   ]
  },
  {
   "cell_type": "code",
   "execution_count": 423,
   "id": "23869e96",
   "metadata": {},
   "outputs": [
    {
     "data": {
      "text/html": [
       "<div>\n",
       "<style scoped>\n",
       "    .dataframe tbody tr th:only-of-type {\n",
       "        vertical-align: middle;\n",
       "    }\n",
       "\n",
       "    .dataframe tbody tr th {\n",
       "        vertical-align: top;\n",
       "    }\n",
       "\n",
       "    .dataframe thead th {\n",
       "        text-align: right;\n",
       "    }\n",
       "</style>\n",
       "<table border=\"1\" class=\"dataframe\">\n",
       "  <thead>\n",
       "    <tr style=\"text-align: right;\">\n",
       "      <th></th>\n",
       "      <th>user_id</th>\n",
       "      <th>country</th>\n",
       "      <th>province_name</th>\n",
       "      <th>city_name</th>\n",
       "      <th>city_level</th>\n",
       "      <th>is_member_flag</th>\n",
       "      <th>first_day</th>\n",
       "      <th>last_day</th>\n",
       "      <th>be_member_time</th>\n",
       "    </tr>\n",
       "  </thead>\n",
       "  <tbody>\n",
       "    <tr>\n",
       "      <th>0</th>\n",
       "      <td>570009353210116</td>\n",
       "      <td>中国</td>\n",
       "      <td>山东</td>\n",
       "      <td>潍坊</td>\n",
       "      <td>三线城市</td>\n",
       "      <td>1</td>\n",
       "      <td>2023-04-03 00:00:00</td>\n",
       "      <td>2023-08-02</td>\n",
       "      <td>2023-04-03 19:42:00</td>\n",
       "    </tr>\n",
       "    <tr>\n",
       "      <th>1</th>\n",
       "      <td>570020406530107</td>\n",
       "      <td>中国</td>\n",
       "      <td>贵州</td>\n",
       "      <td>六盘水</td>\n",
       "      <td>四线城市</td>\n",
       "      <td>1</td>\n",
       "      <td>2023-03-09 00:00:00</td>\n",
       "      <td>2023-03-09</td>\n",
       "      <td>2023-03-09 19:52:00</td>\n",
       "    </tr>\n",
       "    <tr>\n",
       "      <th>2</th>\n",
       "      <td>570020458000111</td>\n",
       "      <td>中国</td>\n",
       "      <td>广东</td>\n",
       "      <td>广州</td>\n",
       "      <td>一线城市</td>\n",
       "      <td>1</td>\n",
       "      <td>2023-06-25 00:00:00</td>\n",
       "      <td>2023-06-29</td>\n",
       "      <td>2023-06-29 12:38:00</td>\n",
       "    </tr>\n",
       "    <tr>\n",
       "      <th>3</th>\n",
       "      <td>570020914800114</td>\n",
       "      <td>中国</td>\n",
       "      <td>山东</td>\n",
       "      <td>青岛</td>\n",
       "      <td>新一线城市</td>\n",
       "      <td>1</td>\n",
       "      <td>2023-06-25 00:00:00</td>\n",
       "      <td>2023-07-02</td>\n",
       "      <td>2022-04-20 10:22:00</td>\n",
       "    </tr>\n",
       "    <tr>\n",
       "      <th>4</th>\n",
       "      <td>570021004330160</td>\n",
       "      <td>中国</td>\n",
       "      <td>江西</td>\n",
       "      <td>上饶</td>\n",
       "      <td>三线城市</td>\n",
       "      <td>1</td>\n",
       "      <td>2023-05-11 00:00:00</td>\n",
       "      <td>2023-07-09</td>\n",
       "      <td>2022-04-22 10:17:00</td>\n",
       "    </tr>\n",
       "  </tbody>\n",
       "</table>\n",
       "</div>"
      ],
      "text/plain": [
       "           user_id country province_name city_name city_level  is_member_flag  \\\n",
       "0  570009353210116      中国            山东        潍坊       三线城市               1   \n",
       "1  570020406530107      中国            贵州       六盘水       四线城市               1   \n",
       "2  570020458000111      中国            广东        广州       一线城市               1   \n",
       "3  570020914800114      中国            山东        青岛      新一线城市               1   \n",
       "4  570021004330160      中国            江西        上饶       三线城市               1   \n",
       "\n",
       "             first_day   last_day      be_member_time  \n",
       "0  2023-04-03 00:00:00 2023-08-02 2023-04-03 19:42:00  \n",
       "1  2023-03-09 00:00:00 2023-03-09 2023-03-09 19:52:00  \n",
       "2  2023-06-25 00:00:00 2023-06-29 2023-06-29 12:38:00  \n",
       "3  2023-06-25 00:00:00 2023-07-02 2022-04-20 10:22:00  \n",
       "4  2023-05-11 00:00:00 2023-07-09 2022-04-22 10:17:00  "
      ]
     },
     "execution_count": 423,
     "metadata": {},
     "output_type": "execute_result"
    }
   ],
   "source": [
    "user_df['first_day'] = pd.to_datetime(user_df['first_day'], errors='coerce').dt.strftime('%Y-%m-%d %H:%M:%S')\n",
    "user_df['last_day'] = pd.to_datetime(user_df['last_day'])\n",
    "user_df['be_member_time'] = pd.to_datetime(user_df['be_member_time'])\n",
    "\n",
    "user_df.head(5)"
   ]
  },
  {
   "cell_type": "code",
   "execution_count": 424,
   "id": "c64af97d",
   "metadata": {
    "scrolled": true
   },
   "outputs": [
    {
     "data": {
      "text/html": [
       "<div>\n",
       "<style scoped>\n",
       "    .dataframe tbody tr th:only-of-type {\n",
       "        vertical-align: middle;\n",
       "    }\n",
       "\n",
       "    .dataframe tbody tr th {\n",
       "        vertical-align: top;\n",
       "    }\n",
       "\n",
       "    .dataframe thead th {\n",
       "        text-align: right;\n",
       "    }\n",
       "</style>\n",
       "<table border=\"1\" class=\"dataframe\">\n",
       "  <thead>\n",
       "    <tr style=\"text-align: right;\">\n",
       "      <th></th>\n",
       "      <th>user_id</th>\n",
       "      <th>country</th>\n",
       "      <th>province_name</th>\n",
       "      <th>city_name</th>\n",
       "      <th>city_level</th>\n",
       "      <th>is_member_flag</th>\n",
       "      <th>first_day</th>\n",
       "      <th>last_day</th>\n",
       "      <th>be_member_time</th>\n",
       "    </tr>\n",
       "  </thead>\n",
       "  <tbody>\n",
       "    <tr>\n",
       "      <th>0</th>\n",
       "      <td>570009353210116</td>\n",
       "      <td>中国</td>\n",
       "      <td>山东</td>\n",
       "      <td>潍坊</td>\n",
       "      <td>三线城市</td>\n",
       "      <td>1</td>\n",
       "      <td>2023-04-03 00:00:00</td>\n",
       "      <td>2023-08-02</td>\n",
       "      <td>2023-04-03 19:42:00</td>\n",
       "    </tr>\n",
       "    <tr>\n",
       "      <th>1</th>\n",
       "      <td>570020406530107</td>\n",
       "      <td>中国</td>\n",
       "      <td>贵州</td>\n",
       "      <td>六盘水</td>\n",
       "      <td>四线城市</td>\n",
       "      <td>1</td>\n",
       "      <td>2023-03-09 00:00:00</td>\n",
       "      <td>2023-03-09</td>\n",
       "      <td>2023-03-09 19:52:00</td>\n",
       "    </tr>\n",
       "    <tr>\n",
       "      <th>2</th>\n",
       "      <td>570020458000111</td>\n",
       "      <td>中国</td>\n",
       "      <td>广东</td>\n",
       "      <td>广州</td>\n",
       "      <td>一线城市</td>\n",
       "      <td>1</td>\n",
       "      <td>2023-06-25 00:00:00</td>\n",
       "      <td>2023-06-29</td>\n",
       "      <td>2023-06-29 12:38:00</td>\n",
       "    </tr>\n",
       "    <tr>\n",
       "      <th>3</th>\n",
       "      <td>570020914800114</td>\n",
       "      <td>中国</td>\n",
       "      <td>山东</td>\n",
       "      <td>青岛</td>\n",
       "      <td>新一线城市</td>\n",
       "      <td>1</td>\n",
       "      <td>2023-06-25 00:00:00</td>\n",
       "      <td>2023-07-02</td>\n",
       "      <td>2022-04-20 10:22:00</td>\n",
       "    </tr>\n",
       "    <tr>\n",
       "      <th>4</th>\n",
       "      <td>570021004330160</td>\n",
       "      <td>中国</td>\n",
       "      <td>江西</td>\n",
       "      <td>上饶</td>\n",
       "      <td>三线城市</td>\n",
       "      <td>1</td>\n",
       "      <td>2023-05-11 00:00:00</td>\n",
       "      <td>2023-07-09</td>\n",
       "      <td>2022-04-22 10:17:00</td>\n",
       "    </tr>\n",
       "    <tr>\n",
       "      <th>...</th>\n",
       "      <td>...</td>\n",
       "      <td>...</td>\n",
       "      <td>...</td>\n",
       "      <td>...</td>\n",
       "      <td>...</td>\n",
       "      <td>...</td>\n",
       "      <td>...</td>\n",
       "      <td>...</td>\n",
       "      <td>...</td>\n",
       "    </tr>\n",
       "    <tr>\n",
       "      <th>870455</th>\n",
       "      <td>570072597650156</td>\n",
       "      <td>中国</td>\n",
       "      <td>重庆</td>\n",
       "      <td>重庆</td>\n",
       "      <td>新一线城市</td>\n",
       "      <td>0</td>\n",
       "      <td>2023-06-30 00:00:00</td>\n",
       "      <td>2023-06-30</td>\n",
       "      <td>NaT</td>\n",
       "    </tr>\n",
       "    <tr>\n",
       "      <th>870456</th>\n",
       "      <td>570072523900118</td>\n",
       "      <td>中国</td>\n",
       "      <td>山东</td>\n",
       "      <td>潍坊</td>\n",
       "      <td>三线城市</td>\n",
       "      <td>0</td>\n",
       "      <td>2023-06-30 00:00:00</td>\n",
       "      <td>2023-08-03</td>\n",
       "      <td>NaT</td>\n",
       "    </tr>\n",
       "    <tr>\n",
       "      <th>870457</th>\n",
       "      <td>570072538870133</td>\n",
       "      <td>中国</td>\n",
       "      <td>黑龙江</td>\n",
       "      <td>大庆</td>\n",
       "      <td>三线城市</td>\n",
       "      <td>1</td>\n",
       "      <td>2023-06-30 00:00:00</td>\n",
       "      <td>2023-06-30</td>\n",
       "      <td>2023-06-30 19:08:00</td>\n",
       "    </tr>\n",
       "    <tr>\n",
       "      <th>870458</th>\n",
       "      <td>570072510060139</td>\n",
       "      <td>中国</td>\n",
       "      <td>陕西</td>\n",
       "      <td>西安</td>\n",
       "      <td>新一线城市</td>\n",
       "      <td>1</td>\n",
       "      <td>2023-06-30 00:00:00</td>\n",
       "      <td>2023-06-30</td>\n",
       "      <td>2023-06-30 21:03:00</td>\n",
       "    </tr>\n",
       "    <tr>\n",
       "      <th>870459</th>\n",
       "      <td>570072529930156</td>\n",
       "      <td>中国</td>\n",
       "      <td>湖北</td>\n",
       "      <td>黄冈</td>\n",
       "      <td>四线城市</td>\n",
       "      <td>0</td>\n",
       "      <td>2023-06-30 00:00:00</td>\n",
       "      <td>2023-06-30</td>\n",
       "      <td>NaT</td>\n",
       "    </tr>\n",
       "  </tbody>\n",
       "</table>\n",
       "<p>870460 rows × 9 columns</p>\n",
       "</div>"
      ],
      "text/plain": [
       "                user_id country province_name city_name city_level  \\\n",
       "0       570009353210116      中国            山东        潍坊       三线城市   \n",
       "1       570020406530107      中国            贵州       六盘水       四线城市   \n",
       "2       570020458000111      中国            广东        广州       一线城市   \n",
       "3       570020914800114      中国            山东        青岛      新一线城市   \n",
       "4       570021004330160      中国            江西        上饶       三线城市   \n",
       "...                 ...     ...           ...       ...        ...   \n",
       "870455  570072597650156      中国            重庆        重庆      新一线城市   \n",
       "870456  570072523900118      中国            山东        潍坊       三线城市   \n",
       "870457  570072538870133      中国           黑龙江        大庆       三线城市   \n",
       "870458  570072510060139      中国            陕西        西安      新一线城市   \n",
       "870459  570072529930156      中国            湖北        黄冈       四线城市   \n",
       "\n",
       "        is_member_flag            first_day   last_day      be_member_time  \n",
       "0                    1  2023-04-03 00:00:00 2023-08-02 2023-04-03 19:42:00  \n",
       "1                    1  2023-03-09 00:00:00 2023-03-09 2023-03-09 19:52:00  \n",
       "2                    1  2023-06-25 00:00:00 2023-06-29 2023-06-29 12:38:00  \n",
       "3                    1  2023-06-25 00:00:00 2023-07-02 2022-04-20 10:22:00  \n",
       "4                    1  2023-05-11 00:00:00 2023-07-09 2022-04-22 10:17:00  \n",
       "...                ...                  ...        ...                 ...  \n",
       "870455               0  2023-06-30 00:00:00 2023-06-30                 NaT  \n",
       "870456               0  2023-06-30 00:00:00 2023-08-03                 NaT  \n",
       "870457               1  2023-06-30 00:00:00 2023-06-30 2023-06-30 19:08:00  \n",
       "870458               1  2023-06-30 00:00:00 2023-06-30 2023-06-30 21:03:00  \n",
       "870459               0  2023-06-30 00:00:00 2023-06-30                 NaT  \n",
       "\n",
       "[870460 rows x 9 columns]"
      ]
     },
     "execution_count": 424,
     "metadata": {},
     "output_type": "execute_result"
    }
   ],
   "source": [
    "#关于填补first_day\n",
    "user_df['first_day'] = user_df['first_day'].fillna(user_df['be_member_time'])\n",
    "user_df.reset_index(drop=True)"
   ]
  },
  {
   "cell_type": "code",
   "execution_count": 428,
   "id": "5ad580bd-da6b-496f-9d40-4f48a2253736",
   "metadata": {},
   "outputs": [
    {
     "data": {
      "text/html": [
       "<div>\n",
       "<style scoped>\n",
       "    .dataframe tbody tr th:only-of-type {\n",
       "        vertical-align: middle;\n",
       "    }\n",
       "\n",
       "    .dataframe tbody tr th {\n",
       "        vertical-align: top;\n",
       "    }\n",
       "\n",
       "    .dataframe thead th {\n",
       "        text-align: right;\n",
       "    }\n",
       "</style>\n",
       "<table border=\"1\" class=\"dataframe\">\n",
       "  <thead>\n",
       "    <tr style=\"text-align: right;\">\n",
       "      <th></th>\n",
       "      <th>user_id</th>\n",
       "      <th>country</th>\n",
       "      <th>province_name</th>\n",
       "      <th>city_name</th>\n",
       "      <th>city_level</th>\n",
       "      <th>is_member_flag</th>\n",
       "      <th>first_day</th>\n",
       "      <th>last_day</th>\n",
       "      <th>be_member_time</th>\n",
       "    </tr>\n",
       "  </thead>\n",
       "  <tbody>\n",
       "    <tr>\n",
       "      <th>17</th>\n",
       "      <td>570026463920104</td>\n",
       "      <td>中国</td>\n",
       "      <td>黑龙江</td>\n",
       "      <td>哈尔滨</td>\n",
       "      <td>二线城市</td>\n",
       "      <td>1</td>\n",
       "      <td>2022-08-16 14:37:00</td>\n",
       "      <td>2023-07-18</td>\n",
       "      <td>2022-08-16 14:37:00</td>\n",
       "    </tr>\n",
       "  </tbody>\n",
       "</table>\n",
       "</div>"
      ],
      "text/plain": [
       "            user_id country province_name city_name city_level  \\\n",
       "17  570026463920104      中国           黑龙江       哈尔滨       二线城市   \n",
       "\n",
       "    is_member_flag            first_day   last_day      be_member_time  \n",
       "17               1  2022-08-16 14:37:00 2023-07-18 2022-08-16 14:37:00  "
      ]
     },
     "execution_count": 428,
     "metadata": {},
     "output_type": "execute_result"
    }
   ],
   "source": [
    "user_df[user_df['user_id']==570026463920104]"
   ]
  },
  {
   "cell_type": "code",
   "execution_count": 411,
   "id": "34266f00-d08e-434f-958c-d417831c2925",
   "metadata": {},
   "outputs": [],
   "source": [
    "condition1 = user_df['first_day'] > user_df['be_member_time']\n",
    "user_df = user_df[~condition1]\n",
    "condition2 = user_df['first_day'] > user_df['last_day']\n",
    "user_df = user_df[~condition2]\n",
    "condition3 = user_df['last_day'] < user_df['be_member_time']\n",
    "user_df = user_df[~condition3]"
   ]
  },
  {
   "cell_type": "code",
   "execution_count": 412,
   "id": "eb08ea33-b31c-4ffb-a707-e5c5a12e53f1",
   "metadata": {},
   "outputs": [
    {
     "data": {
      "text/plain": [
       "(562272, 9)"
      ]
     },
     "execution_count": 412,
     "metadata": {},
     "output_type": "execute_result"
    }
   ],
   "source": [
    "user_df.shape"
   ]
  },
  {
   "cell_type": "code",
   "execution_count": 413,
   "id": "a773a87a-25c2-4315-ab02-362789e60307",
   "metadata": {},
   "outputs": [],
   "source": [
    "#增加续费会员的标签\n",
    "user_df['renew_time'] = (user_df['be_member_time'] + pd.DateOffset(days=365))\n",
    "user_df['is_renew'] = (user_df['renew_time'] <= user_df['last_day']).astype(int) #判断会员是否续费（会员到期日子早于会员最近一次登陆日期）"
   ]
  },
  {
   "cell_type": "code",
   "execution_count": 416,
   "id": "4143ae0c-94d0-4a34-bc17-63d783aee73a",
   "metadata": {},
   "outputs": [
    {
     "name": "stdout",
     "output_type": "stream",
     "text": [
      "be_member_time    datetime64[ns]\n",
      "first_day                 object\n",
      "dtype: object\n"
     ]
    },
    {
     "data": {
      "text/html": [
       "<div>\n",
       "<style scoped>\n",
       "    .dataframe tbody tr th:only-of-type {\n",
       "        vertical-align: middle;\n",
       "    }\n",
       "\n",
       "    .dataframe tbody tr th {\n",
       "        vertical-align: top;\n",
       "    }\n",
       "\n",
       "    .dataframe thead th {\n",
       "        text-align: right;\n",
       "    }\n",
       "</style>\n",
       "<table border=\"1\" class=\"dataframe\">\n",
       "  <thead>\n",
       "    <tr style=\"text-align: right;\">\n",
       "      <th></th>\n",
       "      <th>user_id</th>\n",
       "      <th>country</th>\n",
       "      <th>province_name</th>\n",
       "      <th>city_name</th>\n",
       "      <th>city_level</th>\n",
       "      <th>is_member_flag</th>\n",
       "      <th>first_day</th>\n",
       "      <th>last_day</th>\n",
       "      <th>be_member_time</th>\n",
       "      <th>renew_time</th>\n",
       "      <th>is_renew</th>\n",
       "    </tr>\n",
       "  </thead>\n",
       "  <tbody>\n",
       "    <tr>\n",
       "      <th>0</th>\n",
       "      <td>570009353210116</td>\n",
       "      <td>中国</td>\n",
       "      <td>山东</td>\n",
       "      <td>潍坊</td>\n",
       "      <td>三线城市</td>\n",
       "      <td>1</td>\n",
       "      <td>2023-04-03 00:00:00</td>\n",
       "      <td>2023-08-02</td>\n",
       "      <td>2023-04-03 19:42:00</td>\n",
       "      <td>2024-04-02 19:42:00</td>\n",
       "      <td>0</td>\n",
       "    </tr>\n",
       "    <tr>\n",
       "      <th>9</th>\n",
       "      <td>570023426180132</td>\n",
       "      <td>中国</td>\n",
       "      <td>北京</td>\n",
       "      <td>北京</td>\n",
       "      <td>一线城市</td>\n",
       "      <td>0</td>\n",
       "      <td>2023-03-04 00:00:00</td>\n",
       "      <td>2023-03-09</td>\n",
       "      <td>NaT</td>\n",
       "      <td>NaT</td>\n",
       "      <td>0</td>\n",
       "    </tr>\n",
       "    <tr>\n",
       "      <th>12</th>\n",
       "      <td>570025239650135</td>\n",
       "      <td>中国</td>\n",
       "      <td>上海</td>\n",
       "      <td>上海</td>\n",
       "      <td>一线城市</td>\n",
       "      <td>1</td>\n",
       "      <td>2023-03-08 00:00:00</td>\n",
       "      <td>2023-08-17</td>\n",
       "      <td>2023-07-15 18:25:00</td>\n",
       "      <td>2024-07-14 18:25:00</td>\n",
       "      <td>0</td>\n",
       "    </tr>\n",
       "    <tr>\n",
       "      <th>17</th>\n",
       "      <td>570026463920104</td>\n",
       "      <td>中国</td>\n",
       "      <td>黑龙江</td>\n",
       "      <td>哈尔滨</td>\n",
       "      <td>二线城市</td>\n",
       "      <td>1</td>\n",
       "      <td>NaN</td>\n",
       "      <td>2023-07-18</td>\n",
       "      <td>2022-08-16 14:37:00</td>\n",
       "      <td>2023-08-16 14:37:00</td>\n",
       "      <td>0</td>\n",
       "    </tr>\n",
       "    <tr>\n",
       "      <th>18</th>\n",
       "      <td>570027668630107</td>\n",
       "      <td>中国</td>\n",
       "      <td>四川</td>\n",
       "      <td>成都</td>\n",
       "      <td>新一线城市</td>\n",
       "      <td>0</td>\n",
       "      <td>2023-03-25 00:00:00</td>\n",
       "      <td>2023-03-25</td>\n",
       "      <td>NaT</td>\n",
       "      <td>NaT</td>\n",
       "      <td>0</td>\n",
       "    </tr>\n",
       "  </tbody>\n",
       "</table>\n",
       "</div>"
      ],
      "text/plain": [
       "            user_id country province_name city_name city_level  \\\n",
       "0   570009353210116      中国            山东        潍坊       三线城市   \n",
       "9   570023426180132      中国            北京        北京       一线城市   \n",
       "12  570025239650135      中国            上海        上海       一线城市   \n",
       "17  570026463920104      中国           黑龙江       哈尔滨       二线城市   \n",
       "18  570027668630107      中国            四川        成都      新一线城市   \n",
       "\n",
       "    is_member_flag            first_day   last_day      be_member_time  \\\n",
       "0                1  2023-04-03 00:00:00 2023-08-02 2023-04-03 19:42:00   \n",
       "9                0  2023-03-04 00:00:00 2023-03-09                 NaT   \n",
       "12               1  2023-03-08 00:00:00 2023-08-17 2023-07-15 18:25:00   \n",
       "17               1                  NaN 2023-07-18 2022-08-16 14:37:00   \n",
       "18               0  2023-03-25 00:00:00 2023-03-25                 NaT   \n",
       "\n",
       "            renew_time  is_renew  \n",
       "0  2024-04-02 19:42:00         0  \n",
       "9                  NaT         0  \n",
       "12 2024-07-14 18:25:00         0  \n",
       "17 2023-08-16 14:37:00         0  \n",
       "18                 NaT         0  "
      ]
     },
     "execution_count": 416,
     "metadata": {},
     "output_type": "execute_result"
    }
   ],
   "source": [
    "print(user_df[['be_member_time', 'first_day']].dtypes)\n",
    "user_df.head(5)"
   ]
  },
  {
   "cell_type": "code",
   "execution_count": 415,
   "id": "00ec0914-9183-4b6f-be38-e6f36482d695",
   "metadata": {},
   "outputs": [
    {
     "name": "stderr",
     "output_type": "stream",
     "text": [
      "/var/folders/4q/j0ysgpnj36545bb_2_dt0tr80000gn/T/ipykernel_67548/2079450255.py:1: PerformanceWarning: Adding/subtracting object-dtype array to DatetimeArray not vectorized.\n",
      "  user_df['mbr_days'] = (user_df['be_member_time'] - user_df['first_day']).dt.days #普通用户到付费用户转化天数\n"
     ]
    },
    {
     "ename": "TypeError",
     "evalue": "unsupported operand type(s) for -: 'Timestamp' and 'str'",
     "output_type": "error",
     "traceback": [
      "\u001b[0;31m---------------------------------------------------------------------------\u001b[0m",
      "\u001b[0;31mTypeError\u001b[0m                                 Traceback (most recent call last)",
      "Cell \u001b[0;32mIn[415], line 1\u001b[0m\n\u001b[0;32m----> 1\u001b[0m user_df[\u001b[38;5;124m'\u001b[39m\u001b[38;5;124mmbr_days\u001b[39m\u001b[38;5;124m'\u001b[39m] \u001b[38;5;241m=\u001b[39m (\u001b[43muser_df\u001b[49m\u001b[43m[\u001b[49m\u001b[38;5;124;43m'\u001b[39;49m\u001b[38;5;124;43mbe_member_time\u001b[39;49m\u001b[38;5;124;43m'\u001b[39;49m\u001b[43m]\u001b[49m\u001b[43m \u001b[49m\u001b[38;5;241;43m-\u001b[39;49m\u001b[43m \u001b[49m\u001b[43muser_df\u001b[49m\u001b[43m[\u001b[49m\u001b[38;5;124;43m'\u001b[39;49m\u001b[38;5;124;43mfirst_day\u001b[39;49m\u001b[38;5;124;43m'\u001b[39;49m\u001b[43m]\u001b[49m)\u001b[38;5;241m.\u001b[39mdt\u001b[38;5;241m.\u001b[39mdays \u001b[38;5;66;03m#普通用户到付费用户转化天数\u001b[39;00m\n\u001b[1;32m      2\u001b[0m user_df[\u001b[38;5;124m'\u001b[39m\u001b[38;5;124mmbr_lose_days\u001b[39m\u001b[38;5;124m'\u001b[39m] \u001b[38;5;241m=\u001b[39m (user_df[\u001b[38;5;124m'\u001b[39m\u001b[38;5;124mlast_day\u001b[39m\u001b[38;5;124m'\u001b[39m] \u001b[38;5;241m-\u001b[39m user_df[\u001b[38;5;124m'\u001b[39m\u001b[38;5;124mbe_member_time\u001b[39m\u001b[38;5;124m'\u001b[39m])\u001b[38;5;241m.\u001b[39mdt\u001b[38;5;241m.\u001b[39mdays \u001b[38;5;66;03m#会员到流失转化天数\u001b[39;00m\n",
      "File \u001b[0;32m/Library/Frameworks/Python.framework/Versions/3.12/lib/python3.12/site-packages/pandas/core/ops/common.py:76\u001b[0m, in \u001b[0;36m_unpack_zerodim_and_defer.<locals>.new_method\u001b[0;34m(self, other)\u001b[0m\n\u001b[1;32m     72\u001b[0m             \u001b[38;5;28;01mreturn\u001b[39;00m \u001b[38;5;28mNotImplemented\u001b[39m\n\u001b[1;32m     74\u001b[0m other \u001b[38;5;241m=\u001b[39m item_from_zerodim(other)\n\u001b[0;32m---> 76\u001b[0m \u001b[38;5;28;01mreturn\u001b[39;00m \u001b[43mmethod\u001b[49m\u001b[43m(\u001b[49m\u001b[38;5;28;43mself\u001b[39;49m\u001b[43m,\u001b[49m\u001b[43m \u001b[49m\u001b[43mother\u001b[49m\u001b[43m)\u001b[49m\n",
      "File \u001b[0;32m/Library/Frameworks/Python.framework/Versions/3.12/lib/python3.12/site-packages/pandas/core/arraylike.py:194\u001b[0m, in \u001b[0;36mOpsMixin.__sub__\u001b[0;34m(self, other)\u001b[0m\n\u001b[1;32m    192\u001b[0m \u001b[38;5;129m@unpack_zerodim_and_defer\u001b[39m(\u001b[38;5;124m\"\u001b[39m\u001b[38;5;124m__sub__\u001b[39m\u001b[38;5;124m\"\u001b[39m)\n\u001b[1;32m    193\u001b[0m \u001b[38;5;28;01mdef\u001b[39;00m\u001b[38;5;250m \u001b[39m\u001b[38;5;21m__sub__\u001b[39m(\u001b[38;5;28mself\u001b[39m, other):\n\u001b[0;32m--> 194\u001b[0m     \u001b[38;5;28;01mreturn\u001b[39;00m \u001b[38;5;28;43mself\u001b[39;49m\u001b[38;5;241;43m.\u001b[39;49m\u001b[43m_arith_method\u001b[49m\u001b[43m(\u001b[49m\u001b[43mother\u001b[49m\u001b[43m,\u001b[49m\u001b[43m \u001b[49m\u001b[43moperator\u001b[49m\u001b[38;5;241;43m.\u001b[39;49m\u001b[43msub\u001b[49m\u001b[43m)\u001b[49m\n",
      "File \u001b[0;32m/Library/Frameworks/Python.framework/Versions/3.12/lib/python3.12/site-packages/pandas/core/series.py:6135\u001b[0m, in \u001b[0;36mSeries._arith_method\u001b[0;34m(self, other, op)\u001b[0m\n\u001b[1;32m   6133\u001b[0m \u001b[38;5;28;01mdef\u001b[39;00m\u001b[38;5;250m \u001b[39m\u001b[38;5;21m_arith_method\u001b[39m(\u001b[38;5;28mself\u001b[39m, other, op):\n\u001b[1;32m   6134\u001b[0m     \u001b[38;5;28mself\u001b[39m, other \u001b[38;5;241m=\u001b[39m \u001b[38;5;28mself\u001b[39m\u001b[38;5;241m.\u001b[39m_align_for_op(other)\n\u001b[0;32m-> 6135\u001b[0m     \u001b[38;5;28;01mreturn\u001b[39;00m \u001b[43mbase\u001b[49m\u001b[38;5;241;43m.\u001b[39;49m\u001b[43mIndexOpsMixin\u001b[49m\u001b[38;5;241;43m.\u001b[39;49m\u001b[43m_arith_method\u001b[49m\u001b[43m(\u001b[49m\u001b[38;5;28;43mself\u001b[39;49m\u001b[43m,\u001b[49m\u001b[43m \u001b[49m\u001b[43mother\u001b[49m\u001b[43m,\u001b[49m\u001b[43m \u001b[49m\u001b[43mop\u001b[49m\u001b[43m)\u001b[49m\n",
      "File \u001b[0;32m/Library/Frameworks/Python.framework/Versions/3.12/lib/python3.12/site-packages/pandas/core/base.py:1382\u001b[0m, in \u001b[0;36mIndexOpsMixin._arith_method\u001b[0;34m(self, other, op)\u001b[0m\n\u001b[1;32m   1379\u001b[0m     rvalues \u001b[38;5;241m=\u001b[39m np\u001b[38;5;241m.\u001b[39marange(rvalues\u001b[38;5;241m.\u001b[39mstart, rvalues\u001b[38;5;241m.\u001b[39mstop, rvalues\u001b[38;5;241m.\u001b[39mstep)\n\u001b[1;32m   1381\u001b[0m \u001b[38;5;28;01mwith\u001b[39;00m np\u001b[38;5;241m.\u001b[39merrstate(\u001b[38;5;28mall\u001b[39m\u001b[38;5;241m=\u001b[39m\u001b[38;5;124m\"\u001b[39m\u001b[38;5;124mignore\u001b[39m\u001b[38;5;124m\"\u001b[39m):\n\u001b[0;32m-> 1382\u001b[0m     result \u001b[38;5;241m=\u001b[39m \u001b[43mops\u001b[49m\u001b[38;5;241;43m.\u001b[39;49m\u001b[43marithmetic_op\u001b[49m\u001b[43m(\u001b[49m\u001b[43mlvalues\u001b[49m\u001b[43m,\u001b[49m\u001b[43m \u001b[49m\u001b[43mrvalues\u001b[49m\u001b[43m,\u001b[49m\u001b[43m \u001b[49m\u001b[43mop\u001b[49m\u001b[43m)\u001b[49m\n\u001b[1;32m   1384\u001b[0m \u001b[38;5;28;01mreturn\u001b[39;00m \u001b[38;5;28mself\u001b[39m\u001b[38;5;241m.\u001b[39m_construct_result(result, name\u001b[38;5;241m=\u001b[39mres_name)\n",
      "File \u001b[0;32m/Library/Frameworks/Python.framework/Versions/3.12/lib/python3.12/site-packages/pandas/core/ops/array_ops.py:273\u001b[0m, in \u001b[0;36marithmetic_op\u001b[0;34m(left, right, op)\u001b[0m\n\u001b[1;32m    260\u001b[0m \u001b[38;5;66;03m# NB: We assume that extract_array and ensure_wrapped_if_datetimelike\u001b[39;00m\n\u001b[1;32m    261\u001b[0m \u001b[38;5;66;03m#  have already been called on `left` and `right`,\u001b[39;00m\n\u001b[1;32m    262\u001b[0m \u001b[38;5;66;03m#  and `maybe_prepare_scalar_for_op` has already been called on `right`\u001b[39;00m\n\u001b[1;32m    263\u001b[0m \u001b[38;5;66;03m# We need to special-case datetime64/timedelta64 dtypes (e.g. because numpy\u001b[39;00m\n\u001b[1;32m    264\u001b[0m \u001b[38;5;66;03m# casts integer dtypes to timedelta64 when operating with timedelta64 - GH#22390)\u001b[39;00m\n\u001b[1;32m    266\u001b[0m \u001b[38;5;28;01mif\u001b[39;00m (\n\u001b[1;32m    267\u001b[0m     should_extension_dispatch(left, right)\n\u001b[1;32m    268\u001b[0m     \u001b[38;5;129;01mor\u001b[39;00m \u001b[38;5;28misinstance\u001b[39m(right, (Timedelta, BaseOffset, Timestamp))\n\u001b[0;32m   (...)\u001b[0m\n\u001b[1;32m    271\u001b[0m     \u001b[38;5;66;03m# Timedelta/Timestamp and other custom scalars are included in the check\u001b[39;00m\n\u001b[1;32m    272\u001b[0m     \u001b[38;5;66;03m# because numexpr will fail on it, see GH#31457\u001b[39;00m\n\u001b[0;32m--> 273\u001b[0m     res_values \u001b[38;5;241m=\u001b[39m \u001b[43mop\u001b[49m\u001b[43m(\u001b[49m\u001b[43mleft\u001b[49m\u001b[43m,\u001b[49m\u001b[43m \u001b[49m\u001b[43mright\u001b[49m\u001b[43m)\u001b[49m\n\u001b[1;32m    274\u001b[0m \u001b[38;5;28;01melse\u001b[39;00m:\n\u001b[1;32m    275\u001b[0m     \u001b[38;5;66;03m# TODO we should handle EAs consistently and move this check before the if/else\u001b[39;00m\n\u001b[1;32m    276\u001b[0m     \u001b[38;5;66;03m# (https://github.com/pandas-dev/pandas/issues/41165)\u001b[39;00m\n\u001b[1;32m    277\u001b[0m     \u001b[38;5;66;03m# error: Argument 2 to \"_bool_arith_check\" has incompatible type\u001b[39;00m\n\u001b[1;32m    278\u001b[0m     \u001b[38;5;66;03m# \"Union[ExtensionArray, ndarray[Any, Any]]\"; expected \"ndarray[Any, Any]\"\u001b[39;00m\n\u001b[1;32m    279\u001b[0m     _bool_arith_check(op, left, right)  \u001b[38;5;66;03m# type: ignore[arg-type]\u001b[39;00m\n",
      "File \u001b[0;32m/Library/Frameworks/Python.framework/Versions/3.12/lib/python3.12/site-packages/pandas/core/ops/common.py:76\u001b[0m, in \u001b[0;36m_unpack_zerodim_and_defer.<locals>.new_method\u001b[0;34m(self, other)\u001b[0m\n\u001b[1;32m     72\u001b[0m             \u001b[38;5;28;01mreturn\u001b[39;00m \u001b[38;5;28mNotImplemented\u001b[39m\n\u001b[1;32m     74\u001b[0m other \u001b[38;5;241m=\u001b[39m item_from_zerodim(other)\n\u001b[0;32m---> 76\u001b[0m \u001b[38;5;28;01mreturn\u001b[39;00m \u001b[43mmethod\u001b[49m\u001b[43m(\u001b[49m\u001b[38;5;28;43mself\u001b[39;49m\u001b[43m,\u001b[49m\u001b[43m \u001b[49m\u001b[43mother\u001b[49m\u001b[43m)\u001b[49m\n",
      "File \u001b[0;32m/Library/Frameworks/Python.framework/Versions/3.12/lib/python3.12/site-packages/pandas/core/arrays/datetimelike.py:1454\u001b[0m, in \u001b[0;36mDatetimeLikeArrayMixin.__sub__\u001b[0;34m(self, other)\u001b[0m\n\u001b[1;32m   1451\u001b[0m     result \u001b[38;5;241m=\u001b[39m \u001b[38;5;28mself\u001b[39m\u001b[38;5;241m.\u001b[39m_add_timedelta_arraylike(\u001b[38;5;241m-\u001b[39mother)\n\u001b[1;32m   1452\u001b[0m \u001b[38;5;28;01melif\u001b[39;00m is_object_dtype(other_dtype):\n\u001b[1;32m   1453\u001b[0m     \u001b[38;5;66;03m# e.g. Array/Index of DateOffset objects\u001b[39;00m\n\u001b[0;32m-> 1454\u001b[0m     result \u001b[38;5;241m=\u001b[39m \u001b[38;5;28;43mself\u001b[39;49m\u001b[38;5;241;43m.\u001b[39;49m\u001b[43m_addsub_object_array\u001b[49m\u001b[43m(\u001b[49m\u001b[43mother\u001b[49m\u001b[43m,\u001b[49m\u001b[43m \u001b[49m\u001b[43moperator\u001b[49m\u001b[38;5;241;43m.\u001b[39;49m\u001b[43msub\u001b[49m\u001b[43m)\u001b[49m\n\u001b[1;32m   1455\u001b[0m \u001b[38;5;28;01melif\u001b[39;00m lib\u001b[38;5;241m.\u001b[39mis_np_dtype(other_dtype, \u001b[38;5;124m\"\u001b[39m\u001b[38;5;124mM\u001b[39m\u001b[38;5;124m\"\u001b[39m) \u001b[38;5;129;01mor\u001b[39;00m \u001b[38;5;28misinstance\u001b[39m(\n\u001b[1;32m   1456\u001b[0m     other_dtype, DatetimeTZDtype\n\u001b[1;32m   1457\u001b[0m ):\n\u001b[1;32m   1458\u001b[0m     \u001b[38;5;66;03m# DatetimeIndex, ndarray[datetime64]\u001b[39;00m\n\u001b[1;32m   1459\u001b[0m     result \u001b[38;5;241m=\u001b[39m \u001b[38;5;28mself\u001b[39m\u001b[38;5;241m.\u001b[39m_sub_datetime_arraylike(other)\n",
      "File \u001b[0;32m/Library/Frameworks/Python.framework/Versions/3.12/lib/python3.12/site-packages/pandas/core/arrays/datetimelike.py:1350\u001b[0m, in \u001b[0;36mDatetimeLikeArrayMixin._addsub_object_array\u001b[0;34m(self, other, op)\u001b[0m\n\u001b[1;32m   1347\u001b[0m \u001b[38;5;66;03m# Caller is responsible for broadcasting if necessary\u001b[39;00m\n\u001b[1;32m   1348\u001b[0m \u001b[38;5;28;01massert\u001b[39;00m \u001b[38;5;28mself\u001b[39m\u001b[38;5;241m.\u001b[39mshape \u001b[38;5;241m==\u001b[39m other\u001b[38;5;241m.\u001b[39mshape, (\u001b[38;5;28mself\u001b[39m\u001b[38;5;241m.\u001b[39mshape, other\u001b[38;5;241m.\u001b[39mshape)\n\u001b[0;32m-> 1350\u001b[0m res_values \u001b[38;5;241m=\u001b[39m \u001b[43mop\u001b[49m\u001b[43m(\u001b[49m\u001b[38;5;28;43mself\u001b[39;49m\u001b[38;5;241;43m.\u001b[39;49m\u001b[43mastype\u001b[49m\u001b[43m(\u001b[49m\u001b[38;5;124;43m\"\u001b[39;49m\u001b[38;5;124;43mO\u001b[39;49m\u001b[38;5;124;43m\"\u001b[39;49m\u001b[43m)\u001b[49m\u001b[43m,\u001b[49m\u001b[43m \u001b[49m\u001b[43mnp\u001b[49m\u001b[38;5;241;43m.\u001b[39;49m\u001b[43masarray\u001b[49m\u001b[43m(\u001b[49m\u001b[43mother\u001b[49m\u001b[43m)\u001b[49m\u001b[43m)\u001b[49m\n\u001b[1;32m   1351\u001b[0m \u001b[38;5;28;01mreturn\u001b[39;00m res_values\n",
      "\u001b[0;31mTypeError\u001b[0m: unsupported operand type(s) for -: 'Timestamp' and 'str'"
     ]
    }
   ],
   "source": [
    "user_df['mbr_days'] = (user_df['be_member_time'] - user_df['first_day']).dt.days #普通用户到付费用户转化天数\n",
    "user_df['mbr_lose_days'] = (user_df['last_day'] - user_df['be_member_time']).dt.days #会员到流失转化天数"
   ]
  },
  {
   "cell_type": "code",
   "execution_count": 247,
   "id": "37fb7f37-c145-4b4b-b01a-b7ba6fe68c3c",
   "metadata": {},
   "outputs": [],
   "source": [
    "#将city_level 转化为数字类型，方便后续分析\n",
    "def cityLevel(level):\n",
    "    if level == \"一线城市\" or level == \"新一线城市\":\n",
    "        return 5\n",
    "    elif level == \"二线城市\":\n",
    "        return 4\n",
    "    elif level == \"三线城市\":\n",
    "        return 3\n",
    "    elif level == \"四线城市\":\n",
    "        return 2\n",
    "    elif level == \"五线城市\":\n",
    "        return 1\n",
    "    else:\n",
    "        return 0\n",
    "user_df['city_cate'] = user_df['city_level'].apply(cityLevel)"
   ]
  },
  {
   "cell_type": "code",
   "execution_count": 248,
   "id": "23b27de5-9372-4114-b794-4c1ee184bb55",
   "metadata": {},
   "outputs": [],
   "source": [
    "user_df.to_csv('databases/clean_user_df.csv',encoding='utf-8')"
   ]
  },
  {
   "cell_type": "markdown",
   "id": "ced231a9-7744-4fd7-b0b9-b9f0e2f53993",
   "metadata": {},
   "source": [
    "## 处理 Consult 表格"
   ]
  },
  {
   "cell_type": "code",
   "execution_count": 249,
   "id": "d0ae41c0-1648-4e2d-b03b-3493d5bdfc62",
   "metadata": {},
   "outputs": [
    {
     "name": "stdout",
     "output_type": "stream",
     "text": [
      "<class 'pandas.core.frame.DataFrame'>\n",
      "RangeIndex: 662158 entries, 0 to 662157\n",
      "Data columns (total 6 columns):\n",
      " #   Column              Non-Null Count   Dtype  \n",
      "---  ------              --------------   -----  \n",
      " 0   consult_no          662158 non-null  int64  \n",
      " 1   consult_start_time  662158 non-null  object \n",
      " 2   consult_end_time    662158 non-null  object \n",
      " 3   user_id             662158 non-null  int64  \n",
      " 4   consult_round       0 non-null       float64\n",
      " 5   like_level          94404 non-null   float64\n",
      "dtypes: float64(2), int64(2), object(2)\n",
      "memory usage: 30.3+ MB\n",
      "None\n"
     ]
    }
   ],
   "source": [
    "print(consult_df.info())"
   ]
  },
  {
   "cell_type": "code",
   "execution_count": 250,
   "id": "c17d6c4d-830e-4440-b762-f97ad28e0ae1",
   "metadata": {},
   "outputs": [],
   "source": [
    "# 删除 consult_round 这个variable 全是None 所以可以直接去除\n",
    "del consult_df['consult_round']"
   ]
  },
  {
   "cell_type": "code",
   "execution_count": 251,
   "id": "340242cb-8d7b-47ce-b3e9-d9ef0afa3032",
   "metadata": {},
   "outputs": [],
   "source": [
    "consult_df['consult_start_time'] = pd.to_datetime(consult_df['consult_start_time'],errors='coerce').dt.tz_localize(None)\n",
    "consult_df['consult_end_time'] = pd.to_datetime(consult_df['consult_end_time'],errors='coerce').dt.tz_localize(None)\n",
    "consult_df = consult_df[consult_df['consult_start_time'] != consult_df['consult_end_time']] #删除问诊时间异常值"
   ]
  },
  {
   "cell_type": "code",
   "execution_count": 252,
   "id": "a9bdb832-2521-449a-a2dd-d3a175838426",
   "metadata": {},
   "outputs": [],
   "source": [
    "# 计算用户问诊时长\n",
    "consult_df.loc[:,'duration'] = (consult_df['consult_end_time'] - consult_df['consult_start_time']).dt.seconds/60\n",
    "consult_df.loc[:, 'duration'] = consult_df['duration'].round()\n",
    "consult_df['consult_month'] = consult_df['consult_start_time'].dt.to_period('M') #提取问诊时间的月份"
   ]
  },
  {
   "cell_type": "code",
   "execution_count": 253,
   "id": "3b8d8830-954f-4b4c-89eb-8562fa60d3ec",
   "metadata": {},
   "outputs": [],
   "source": [
    "# 计算用户最后一次问诊的时间，日记截至2024年元旦，因为此数据集只到2023年底\n",
    "consult_df['last_consult'] = (pd.to_datetime('2024-01-01') - consult_df['consult_end_time']).dt.days\n",
    "consult_df['comment'] = consult_df['like_level'].notna().astype(int) #判断用户是否评价\n",
    "consult_df = consult_df.reset_index(drop='True')\n",
    "consult_df.to_csv(\"databases/clean_consult.csv\",encoding='utf-8')"
   ]
  },
  {
   "cell_type": "markdown",
   "id": "6dcde869-9b58-477e-b124-b53bb35e0155",
   "metadata": {},
   "source": [
    "## 患者问诊行为特征构建"
   ]
  },
  {
   "cell_type": "code",
   "execution_count": 254,
   "id": "64f92f08-6b73-4e0b-ab28-c9d34a8e135e",
   "metadata": {},
   "outputs": [],
   "source": [
    "user_df = pd.read_csv('databases/clean_user_df.csv',encoding='utf-8')\n",
    "consult_df = pd.read_csv('databases/clean_consult.csv',encoding='utf-8')"
   ]
  },
  {
   "cell_type": "code",
   "execution_count": 255,
   "id": "c17da28e-f918-4360-8930-f40c71e6fd62",
   "metadata": {},
   "outputs": [],
   "source": [
    "user_consult_df = pd.merge(consult_df,user_df,on='user_id',how='left')\n",
    "del user_consult_df['Unnamed: 0_x']\n",
    "del user_consult_df['Unnamed: 0_y']"
   ]
  },
  {
   "cell_type": "code",
   "execution_count": 256,
   "id": "d1fa37b3-afff-4424-b022-6091539ca505",
   "metadata": {},
   "outputs": [
    {
     "data": {
      "text/html": [
       "<div>\n",
       "<style scoped>\n",
       "    .dataframe tbody tr th:only-of-type {\n",
       "        vertical-align: middle;\n",
       "    }\n",
       "\n",
       "    .dataframe tbody tr th {\n",
       "        vertical-align: top;\n",
       "    }\n",
       "\n",
       "    .dataframe thead th {\n",
       "        text-align: right;\n",
       "    }\n",
       "</style>\n",
       "<table border=\"1\" class=\"dataframe\">\n",
       "  <thead>\n",
       "    <tr style=\"text-align: right;\">\n",
       "      <th></th>\n",
       "      <th>user_id</th>\n",
       "      <th>consult_cnt</th>\n",
       "      <th>duration</th>\n",
       "      <th>comment</th>\n",
       "      <th>like_level</th>\n",
       "      <th>consult_month</th>\n",
       "      <th>last_consult</th>\n",
       "      <th>consult_mcnts</th>\n",
       "      <th>consult_mdurs</th>\n",
       "      <th>consult_durs</th>\n",
       "      <th>comment_ratio</th>\n",
       "      <th>favor_ration</th>\n",
       "    </tr>\n",
       "  </thead>\n",
       "  <tbody>\n",
       "    <tr>\n",
       "      <th>0</th>\n",
       "      <td>570051393580120</td>\n",
       "      <td>172</td>\n",
       "      <td>1944.0</td>\n",
       "      <td>30</td>\n",
       "      <td>30</td>\n",
       "      <td>3</td>\n",
       "      <td>276</td>\n",
       "      <td>57.333333</td>\n",
       "      <td>648.0</td>\n",
       "      <td>11.302326</td>\n",
       "      <td>0.174419</td>\n",
       "      <td>0.000318</td>\n",
       "    </tr>\n",
       "    <tr>\n",
       "      <th>1</th>\n",
       "      <td>570051491040126</td>\n",
       "      <td>9</td>\n",
       "      <td>110.0</td>\n",
       "      <td>0</td>\n",
       "      <td>0</td>\n",
       "      <td>2</td>\n",
       "      <td>321</td>\n",
       "      <td>4.500000</td>\n",
       "      <td>55.0</td>\n",
       "      <td>12.222222</td>\n",
       "      <td>0.000000</td>\n",
       "      <td>0.000000</td>\n",
       "    </tr>\n",
       "    <tr>\n",
       "      <th>2</th>\n",
       "      <td>570050307940122</td>\n",
       "      <td>1</td>\n",
       "      <td>20.0</td>\n",
       "      <td>0</td>\n",
       "      <td>0</td>\n",
       "      <td>1</td>\n",
       "      <td>361</td>\n",
       "      <td>1.000000</td>\n",
       "      <td>20.0</td>\n",
       "      <td>20.000000</td>\n",
       "      <td>0.000000</td>\n",
       "      <td>0.000000</td>\n",
       "    </tr>\n",
       "  </tbody>\n",
       "</table>\n",
       "</div>"
      ],
      "text/plain": [
       "           user_id  consult_cnt  duration  comment  like_level  consult_month  \\\n",
       "0  570051393580120          172    1944.0       30          30              3   \n",
       "1  570051491040126            9     110.0        0           0              2   \n",
       "2  570050307940122            1      20.0        0           0              1   \n",
       "\n",
       "   last_consult  consult_mcnts  consult_mdurs  consult_durs  comment_ratio  \\\n",
       "0           276      57.333333          648.0     11.302326       0.174419   \n",
       "1           321       4.500000           55.0     12.222222       0.000000   \n",
       "2           361       1.000000           20.0     20.000000       0.000000   \n",
       "\n",
       "   favor_ration  \n",
       "0      0.000318  \n",
       "1      0.000000  \n",
       "2      0.000000  "
      ]
     },
     "execution_count": 256,
     "metadata": {},
     "output_type": "execute_result"
    }
   ],
   "source": [
    "def consult_calcu(df):\n",
    "    if 'user_id' not in df.columns:\n",
    "        raise ValueError(\"Varible user_id Does Not Exist\")\n",
    "\n",
    "    temp = df.groupby('user_id').agg({\n",
    "        'consult_no':'count',\n",
    "        'duration': 'sum',\n",
    "        'comment':'sum',\n",
    "        'like_level':lambda x: x[x >= 4].count(),\n",
    "        'consult_month':lambda x:x.nunique(),\n",
    "        'last_consult':'min'\n",
    "    })\n",
    "    \n",
    "    #构建其他指标\n",
    "    temp['consult_mcnts'] = temp['consult_no']/temp['consult_month'] #月均问诊次数\n",
    "    temp['consult_mdurs'] = temp['duration']/temp['consult_month'] #月均问诊时长\n",
    "    temp['consult_durs'] = temp['duration']/temp['consult_no'] #单次平均问诊时长\n",
    "    temp['comment_ratio'] = temp['comment'] / temp['consult_no'] #评价率\n",
    "    temp['favor_ration'] = temp['like_level'] / temp['comment'].sum() #好评率\n",
    "\n",
    "    user_consult_stat = pd.DataFrame(df['user_id'].unique(), columns=['user_id'])\n",
    "\n",
    "    user_consult_stat = pd.merge(user_consult_stat, temp, on='user_id', how='left')\n",
    "    user_consult_stat.rename(columns={\n",
    "        'consult_no':'consult_cnt',\n",
    "    },inplace=True)\n",
    "\n",
    "    return user_consult_stat\n",
    "\n",
    "user_consult_mertics = consult_calcu(consult_df)\n",
    "user_consult_mertics.head(3)"
   ]
  },
  {
   "cell_type": "code",
   "execution_count": 117,
   "id": "806b5ce8-6a22-422b-a6af-e7eb66fda008",
   "metadata": {},
   "outputs": [],
   "source": [
    "renew_user = user_consult_df[user_consult_df['is_renew'] == 1] #续费会员数据集\n",
    "nonrenew_user = user_consult_df[user_consult_df['is_renew']==0] #非续费会员数据集"
   ]
  },
  {
   "cell_type": "code",
   "execution_count": 258,
   "id": "5787d50c-5201-450b-ab91-6a3933b3390a",
   "metadata": {},
   "outputs": [
    {
     "data": {
      "text/plain": [
       "(2, 9)"
      ]
     },
     "execution_count": 258,
     "metadata": {},
     "output_type": "execute_result"
    }
   ],
   "source": [
    "nonrenew_user.shape"
   ]
  },
  {
   "cell_type": "code",
   "execution_count": 118,
   "id": "f0454082-75de-4d62-8c19-5b315b1b4866",
   "metadata": {},
   "outputs": [],
   "source": [
    "def process_consult_rename(df):\n",
    "    df = consult_calcu(df)\n",
    "    df.drop(['consult_month','comment','like_level'],axis=1,inplace=True) \n",
    "    df = df.rename(columns={\n",
    "        'consult_cnt':'consult_cnt_prd',\n",
    "        'duration': 'duration_prd',\n",
    "        'consult_durs':'consult_durs_prd',\n",
    "        'consult_mcnts':'consult_mcnts_prd',\n",
    "        'consult_mdurs':'consult_mdurs_prd',\n",
    "        'comment_ratio':'comment_ratio_prd',\n",
    "        'favor_ration':'favor_ration_prd',\n",
    "        'last_consult':'last_consult_prd',\n",
    "    })\n",
    "    return df\n",
    "\n",
    "renew_user_period = renew_user[renew_user['consult_start_time'] < renew_user['renew_time']] #\n",
    "renew_user_period = renew_user[renew_user['consult_start_time'] > renew_user['be_member_time']]\n",
    "\n",
    "nonrenew_user_period = nonrenew_user[nonrenew_user['consult_start_time'] < nonrenew_user['last_day']]\n",
    "nonrenew_user_period = nonrenew_user[nonrenew_user['consult_start_time'] > nonrenew_user['renew_time']]"
   ]
  },
  {
   "cell_type": "code",
   "execution_count": 119,
   "id": "a92ba7b2-50ac-4ff2-866f-2f7e3043fdae",
   "metadata": {},
   "outputs": [],
   "source": [
    "renew_user = process_consult_rename(renew_user_period)\n",
    "nonrenew_user = process_consult_rename(nonrenew_user_period)"
   ]
  },
  {
   "cell_type": "code",
   "execution_count": 120,
   "id": "b430fbbd-401e-4f69-b4ed-54439810f6ea",
   "metadata": {},
   "outputs": [
    {
     "data": {
      "text/plain": [
       "(8465, 22)"
      ]
     },
     "execution_count": 120,
     "metadata": {},
     "output_type": "execute_result"
    }
   ],
   "source": [
    "renew_user_period.shape"
   ]
  },
  {
   "cell_type": "code",
   "execution_count": 121,
   "id": "621a426a-3db1-4b5b-8229-5857c7aaef9f",
   "metadata": {},
   "outputs": [
    {
     "data": {
      "text/html": [
       "<div>\n",
       "<style scoped>\n",
       "    .dataframe tbody tr th:only-of-type {\n",
       "        vertical-align: middle;\n",
       "    }\n",
       "\n",
       "    .dataframe tbody tr th {\n",
       "        vertical-align: top;\n",
       "    }\n",
       "\n",
       "    .dataframe thead th {\n",
       "        text-align: right;\n",
       "    }\n",
       "</style>\n",
       "<table border=\"1\" class=\"dataframe\">\n",
       "  <thead>\n",
       "    <tr style=\"text-align: right;\">\n",
       "      <th></th>\n",
       "      <th>user_id</th>\n",
       "      <th>consult_cnt_prd</th>\n",
       "      <th>duration_prd</th>\n",
       "      <th>last_consult_prd</th>\n",
       "      <th>consult_mcnts_prd</th>\n",
       "      <th>consult_mdurs_prd</th>\n",
       "      <th>consult_durs_prd</th>\n",
       "      <th>comment_ratio_prd</th>\n",
       "      <th>favor_ration_prd</th>\n",
       "    </tr>\n",
       "  </thead>\n",
       "  <tbody>\n",
       "    <tr>\n",
       "      <th>0</th>\n",
       "      <td>570026677930135</td>\n",
       "      <td>1</td>\n",
       "      <td>18.0</td>\n",
       "      <td>358</td>\n",
       "      <td>1.00</td>\n",
       "      <td>18.0</td>\n",
       "      <td>18.000000</td>\n",
       "      <td>0.000000</td>\n",
       "      <td>0.000000</td>\n",
       "    </tr>\n",
       "    <tr>\n",
       "      <th>1</th>\n",
       "      <td>570022650830127</td>\n",
       "      <td>7</td>\n",
       "      <td>84.0</td>\n",
       "      <td>204</td>\n",
       "      <td>1.75</td>\n",
       "      <td>21.0</td>\n",
       "      <td>12.000000</td>\n",
       "      <td>0.428571</td>\n",
       "      <td>0.001946</td>\n",
       "    </tr>\n",
       "    <tr>\n",
       "      <th>2</th>\n",
       "      <td>570038491870159</td>\n",
       "      <td>15</td>\n",
       "      <td>206.0</td>\n",
       "      <td>126</td>\n",
       "      <td>3.75</td>\n",
       "      <td>51.5</td>\n",
       "      <td>13.733333</td>\n",
       "      <td>0.333333</td>\n",
       "      <td>0.003243</td>\n",
       "    </tr>\n",
       "    <tr>\n",
       "      <th>3</th>\n",
       "      <td>570038542940137</td>\n",
       "      <td>3</td>\n",
       "      <td>64.0</td>\n",
       "      <td>352</td>\n",
       "      <td>3.00</td>\n",
       "      <td>64.0</td>\n",
       "      <td>21.333333</td>\n",
       "      <td>0.000000</td>\n",
       "      <td>0.000000</td>\n",
       "    </tr>\n",
       "    <tr>\n",
       "      <th>4</th>\n",
       "      <td>570004842750155</td>\n",
       "      <td>2</td>\n",
       "      <td>28.0</td>\n",
       "      <td>355</td>\n",
       "      <td>2.00</td>\n",
       "      <td>28.0</td>\n",
       "      <td>14.000000</td>\n",
       "      <td>0.000000</td>\n",
       "      <td>0.000000</td>\n",
       "    </tr>\n",
       "  </tbody>\n",
       "</table>\n",
       "</div>"
      ],
      "text/plain": [
       "           user_id  consult_cnt_prd  duration_prd  last_consult_prd  \\\n",
       "0  570026677930135                1          18.0               358   \n",
       "1  570022650830127                7          84.0               204   \n",
       "2  570038491870159               15         206.0               126   \n",
       "3  570038542940137                3          64.0               352   \n",
       "4  570004842750155                2          28.0               355   \n",
       "\n",
       "   consult_mcnts_prd  consult_mdurs_prd  consult_durs_prd  comment_ratio_prd  \\\n",
       "0               1.00               18.0         18.000000           0.000000   \n",
       "1               1.75               21.0         12.000000           0.428571   \n",
       "2               3.75               51.5         13.733333           0.333333   \n",
       "3               3.00               64.0         21.333333           0.000000   \n",
       "4               2.00               28.0         14.000000           0.000000   \n",
       "\n",
       "   favor_ration_prd  \n",
       "0          0.000000  \n",
       "1          0.001946  \n",
       "2          0.003243  \n",
       "3          0.000000  \n",
       "4          0.000000  "
      ]
     },
     "execution_count": 121,
     "metadata": {},
     "output_type": "execute_result"
    }
   ],
   "source": [
    "renew_user.head(5)"
   ]
  },
  {
   "cell_type": "code",
   "execution_count": null,
   "id": "b0abf4fb-59a7-4c45-b7b1-32a23dd66af4",
   "metadata": {},
   "outputs": [],
   "source": []
  }
 ],
 "metadata": {
  "kernelspec": {
   "display_name": "Python 3 (ipykernel)",
   "language": "python",
   "name": "python3"
  },
  "language_info": {
   "codemirror_mode": {
    "name": "ipython",
    "version": 3
   },
   "file_extension": ".py",
   "mimetype": "text/x-python",
   "name": "python",
   "nbconvert_exporter": "python",
   "pygments_lexer": "ipython3",
   "version": "3.12.8"
  },
  "toc": {
   "base_numbering": 1,
   "nav_menu": {},
   "number_sections": true,
   "sideBar": true,
   "skip_h1_title": false,
   "title_cell": "Table of Contents",
   "title_sidebar": "Contents",
   "toc_cell": false,
   "toc_position": {},
   "toc_section_display": true,
   "toc_window_display": false
  }
 },
 "nbformat": 4,
 "nbformat_minor": 5
}
