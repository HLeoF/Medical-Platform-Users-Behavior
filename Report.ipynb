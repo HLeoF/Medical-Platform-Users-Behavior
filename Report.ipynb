{
 "cells": [
  {
   "cell_type": "code",
   "execution_count": 105,
   "id": "d62db267",
   "metadata": {},
   "outputs": [],
   "source": [
    "import pandas as pd\n",
    "import numpy as np \n",
    "import plotly.express as ex \n",
    "import plotly.graph_objects as go"
   ]
  },
  {
   "cell_type": "markdown",
   "id": "3e395f25",
   "metadata": {},
   "source": [
    "# 数据清洗&预处理"
   ]
  },
  {
   "cell_type": "code",
   "execution_count": 106,
   "id": "206048f4",
   "metadata": {},
   "outputs": [],
   "source": [
    "#加载三张数据集\n",
    "user_df = pd.read_csv('databases/user—test.csv',encoding='gb18030')\n",
    "order_df = pd.read_csv('databases/Order-test.csv')\n",
    "consult_df = pd.read_csv('databases/consult-test.csv')"
   ]
  },
  {
   "cell_type": "markdown",
   "id": "0bf1e977",
   "metadata": {},
   "source": [
    "## 处理 User 表格"
   ]
  },
  {
   "cell_type": "code",
   "execution_count": 107,
   "id": "bc4bbf4e",
   "metadata": {},
   "outputs": [
    {
     "name": "stdout",
     "output_type": "stream",
     "text": [
      "<class 'pandas.core.frame.DataFrame'>\n",
      "RangeIndex: 870460 entries, 0 to 870459\n",
      "Data columns (total 11 columns):\n",
      " #   Column          Non-Null Count   Dtype  \n",
      "---  ------          --------------   -----  \n",
      " 0   user_id         870460 non-null  int64  \n",
      " 1   sex             62753 non-null   object \n",
      " 2   age             61970 non-null   float64\n",
      " 3   country         866918 non-null  object \n",
      " 4   province_name   866918 non-null  object \n",
      " 5   city_name       866918 non-null  object \n",
      " 6   city_level      863913 non-null  object \n",
      " 7   is_member_flag  870460 non-null  int64  \n",
      " 8   first_day       811277 non-null  object \n",
      " 9   last_day        870460 non-null  object \n",
      " 10  be_member_time  596011 non-null  object \n",
      "dtypes: float64(1), int64(2), object(8)\n",
      "memory usage: 73.1+ MB\n",
      "None \n",
      "\n",
      "Each Column Missing Value\n",
      "user_id : 0\n",
      "sex : 807707\n",
      "age : 808490\n",
      "country : 3542\n",
      "province_name : 3542\n",
      "city_name : 3542\n",
      "city_level : 6547\n",
      "is_member_flag : 0\n",
      "first_day : 59183\n",
      "last_day : 0\n",
      "be_member_time : 274449\n"
     ]
    }
   ],
   "source": [
    "print(user_df.info(),\"\\n\")\n",
    "missingValue_stat()"
   ]
  },
  {
   "cell_type": "code",
   "execution_count": 108,
   "id": "eb7ed074",
   "metadata": {},
   "outputs": [],
   "source": [
    "# 这里 sex & age Missing value 是80w+, 这个数据集总共才87W, 缺失值总共约占数据集92%\n",
    "# 直接去掉这两行\n",
    "user_df = user_df.drop(['sex','age'],axis=1)"
   ]
  },
  {
   "cell_type": "code",
   "execution_count": 109,
   "id": "a46ad3da",
   "metadata": {},
   "outputs": [
    {
     "name": "stdout",
     "output_type": "stream",
     "text": [
      "user_id                0\n",
      "country             3542\n",
      "province_name       3542\n",
      "city_name           3542\n",
      "city_level          6547\n",
      "is_member_flag         0\n",
      "first_day          59183\n",
      "last_day               0\n",
      "be_member_time    274449\n",
      "dtype: int64\n",
      "(870460, 9)\n"
     ]
    }
   ],
   "source": [
    "# 查看province_name 为缺失值有3542个，由于省名缺失，对后续分析有影响。\n",
    "# 所以,直接将这三千多行数据去掉，约占总数据集的0.4%，影响不大\n",
    "# user_df = user_df.dropna(subset=['province_name'])\n",
    "# columnlist = user_df.columns.values\n",
    "print(user_df.isna().sum())\n",
    "print(user_df.shape)"
   ]
  },
  {
   "cell_type": "code",
   "execution_count": 110,
   "id": "4580c935",
   "metadata": {},
   "outputs": [
    {
     "name": "stdout",
     "output_type": "stream",
     "text": [
      "Each Column Missing Value\n",
      "user_id : 0\n",
      "3542try : \n",
      "province_name : 3542\n",
      "city_name : 3542\n",
      "city_level : 0\n",
      "is_member_flag : 0\n",
      "first_day : 59183\n",
      "last_day : 0\n",
      "be_member_time : 274449\n"
     ]
    },
    {
     "name": "stderr",
     "output_type": "stream",
     "text": [
      "/var/folders/4q/j0ysgpnj36545bb_2_dt0tr80000gn/T/ipykernel_65226/1500180173.py:2: FutureWarning: A value is trying to be set on a copy of a DataFrame or Series through chained assignment using an inplace method.\n",
      "The behavior will change in pandas 3.0. This inplace method will never work because the intermediate object on which we are setting values always behaves as a copy.\n",
      "\n",
      "For example, when doing 'df[col].method(value, inplace=True)', try using 'df.method({col: value}, inplace=True)' or df[col] = df[col].method(value) instead, to perform the operation inplace on the original object.\n",
      "\n",
      "\n",
      "  user_df['city_level'].fillna(\"其他城市\",inplace=True)\n"
     ]
    }
   ],
   "source": [
    "#缺失city_level这些地方属于一些特殊的省直管县级市，按照这种方法，使用‘其他城市’去替换Nan\n",
    "user_df['city_level'].fillna(\"其他城市\",inplace=True)\n",
    "columnlist = user_df.columns.values\n",
    "missingValue_stat()"
   ]
  },
  {
   "cell_type": "code",
   "execution_count": 111,
   "id": "c64af97d",
   "metadata": {},
   "outputs": [
    {
     "name": "stderr",
     "output_type": "stream",
     "text": [
      "/var/folders/4q/j0ysgpnj36545bb_2_dt0tr80000gn/T/ipykernel_65226/2803777748.py:4: FutureWarning: A value is trying to be set on a copy of a DataFrame or Series through chained assignment using an inplace method.\n",
      "The behavior will change in pandas 3.0. This inplace method will never work because the intermediate object on which we are setting values always behaves as a copy.\n",
      "\n",
      "For example, when doing 'df[col].method(value, inplace=True)', try using 'df.method({col: value}, inplace=True)' or df[col] = df[col].method(value) instead, to perform the operation inplace on the original object.\n",
      "\n",
      "\n",
      "  user_df['first_day'].fillna(user_df['be_member_time'],inplace=True)\n"
     ]
    },
    {
     "data": {
      "text/plain": [
       "user_id                0\n",
       "country             3542\n",
       "province_name       3542\n",
       "city_name           3542\n",
       "city_level             0\n",
       "is_member_flag         0\n",
       "first_day          19480\n",
       "last_day               0\n",
       "be_member_time    274449\n",
       "dtype: int64"
      ]
     },
     "execution_count": 111,
     "metadata": {},
     "output_type": "execute_result"
    }
   ],
   "source": [
    "#关于填补first_day 的策略，我分下面两种情况进行填补\n",
    "# 1. 如果开通会员的话，be_member_time就是他的first_time\n",
    "# 2. 如果没有开通会员的话，first_time 就是它的last_day, 把这类临时用户\n",
    "user_df['first_day'].fillna(user_df['be_member_time'],inplace=True)\n",
    "user_df.reset_index(drop=True)\n",
    "user_df.isnull().sum()"
   ]
  },
  {
   "cell_type": "code",
   "execution_count": 112,
   "id": "f45f3593",
   "metadata": {},
   "outputs": [
    {
     "data": {
      "text/plain": [
       "np.int64(0)"
      ]
     },
     "execution_count": 112,
     "metadata": {},
     "output_type": "execute_result"
    }
   ],
   "source": [
    "#检测是否有重复row\n",
    "user_df.duplicated().sum()"
   ]
  },
  {
   "cell_type": "code",
   "execution_count": 113,
   "id": "23869e96",
   "metadata": {},
   "outputs": [
    {
     "data": {
      "text/plain": [
       "(562272, 9)"
      ]
     },
     "execution_count": 113,
     "metadata": {},
     "output_type": "execute_result"
    }
   ],
   "source": [
    "user_df['first_day'] = pd.to_datetime(user_df['first_day'],errors='coerce')\n",
    "user_df['last_day'] = pd.to_datetime(user_df['last_day'],errors='coerce')\n",
    "user_df['be_member_time'] = pd.to_datetime(user_df['be_member_time'],errors='coerce')\n",
    "\n",
    "condition1 = user_df['first_day'] > user_df['be_member_time']\n",
    "user_df = user_df[~condition1]\n",
    "\n",
    "condition2 = user_df['first_day'] > user_df['last_day']\n",
    "user_df = user_df[~condition2]\n",
    "\n",
    "condition3 = user_df['last_day'] < user_df['be_member_time']\n",
    "user_df = user_df[~condition3]\n",
    "\n",
    "user_df.shape"
   ]
  },
  {
   "cell_type": "code",
   "execution_count": 114,
   "id": "a773a87a-25c2-4315-ab02-362789e60307",
   "metadata": {},
   "outputs": [],
   "source": [
    "user_df['renew_time'] = (user_df['be_member_time'] + pd.DateOffset(days=365))\n",
    "user_df['is_renew'] = (user_df['renew_time'] <= user_df['last_day']).astype(int)"
   ]
  },
  {
   "cell_type": "code",
   "execution_count": 117,
   "id": "5d9b51ef-7189-44ca-8404-bd298b05d744",
   "metadata": {},
   "outputs": [
    {
     "data": {
      "text/html": [
       "<div>\n",
       "<style scoped>\n",
       "    .dataframe tbody tr th:only-of-type {\n",
       "        vertical-align: middle;\n",
       "    }\n",
       "\n",
       "    .dataframe tbody tr th {\n",
       "        vertical-align: top;\n",
       "    }\n",
       "\n",
       "    .dataframe thead th {\n",
       "        text-align: right;\n",
       "    }\n",
       "</style>\n",
       "<table border=\"1\" class=\"dataframe\">\n",
       "  <thead>\n",
       "    <tr style=\"text-align: right;\">\n",
       "      <th></th>\n",
       "      <th>user_id</th>\n",
       "      <th>country</th>\n",
       "      <th>province_name</th>\n",
       "      <th>city_name</th>\n",
       "      <th>city_level</th>\n",
       "      <th>is_member_flag</th>\n",
       "      <th>first_day</th>\n",
       "      <th>last_day</th>\n",
       "      <th>be_member_time</th>\n",
       "      <th>renew_time</th>\n",
       "      <th>is_renew</th>\n",
       "    </tr>\n",
       "  </thead>\n",
       "  <tbody>\n",
       "    <tr>\n",
       "      <th>0</th>\n",
       "      <td>570009353210116</td>\n",
       "      <td>中国</td>\n",
       "      <td>山东</td>\n",
       "      <td>潍坊</td>\n",
       "      <td>三线城市</td>\n",
       "      <td>1</td>\n",
       "      <td>2023-04-03</td>\n",
       "      <td>2023-08-02</td>\n",
       "      <td>2023-04-03 19:42:00</td>\n",
       "      <td>2024-04-02 19:42:00</td>\n",
       "      <td>0</td>\n",
       "    </tr>\n",
       "    <tr>\n",
       "      <th>9</th>\n",
       "      <td>570023426180132</td>\n",
       "      <td>中国</td>\n",
       "      <td>北京</td>\n",
       "      <td>北京</td>\n",
       "      <td>一线城市</td>\n",
       "      <td>0</td>\n",
       "      <td>2023-03-04</td>\n",
       "      <td>2023-03-09</td>\n",
       "      <td>NaT</td>\n",
       "      <td>NaT</td>\n",
       "      <td>0</td>\n",
       "    </tr>\n",
       "    <tr>\n",
       "      <th>12</th>\n",
       "      <td>570025239650135</td>\n",
       "      <td>中国</td>\n",
       "      <td>上海</td>\n",
       "      <td>上海</td>\n",
       "      <td>一线城市</td>\n",
       "      <td>1</td>\n",
       "      <td>2023-03-08</td>\n",
       "      <td>2023-08-17</td>\n",
       "      <td>2023-07-15 18:25:00</td>\n",
       "      <td>2024-07-14 18:25:00</td>\n",
       "      <td>0</td>\n",
       "    </tr>\n",
       "    <tr>\n",
       "      <th>17</th>\n",
       "      <td>570026463920104</td>\n",
       "      <td>中国</td>\n",
       "      <td>黑龙江</td>\n",
       "      <td>哈尔滨</td>\n",
       "      <td>二线城市</td>\n",
       "      <td>1</td>\n",
       "      <td>NaT</td>\n",
       "      <td>2023-07-18</td>\n",
       "      <td>2022-08-16 14:37:00</td>\n",
       "      <td>2023-08-16 14:37:00</td>\n",
       "      <td>0</td>\n",
       "    </tr>\n",
       "    <tr>\n",
       "      <th>18</th>\n",
       "      <td>570027668630107</td>\n",
       "      <td>中国</td>\n",
       "      <td>四川</td>\n",
       "      <td>成都</td>\n",
       "      <td>新一线城市</td>\n",
       "      <td>0</td>\n",
       "      <td>2023-03-25</td>\n",
       "      <td>2023-03-25</td>\n",
       "      <td>NaT</td>\n",
       "      <td>NaT</td>\n",
       "      <td>0</td>\n",
       "    </tr>\n",
       "    <tr>\n",
       "      <th>...</th>\n",
       "      <td>...</td>\n",
       "      <td>...</td>\n",
       "      <td>...</td>\n",
       "      <td>...</td>\n",
       "      <td>...</td>\n",
       "      <td>...</td>\n",
       "      <td>...</td>\n",
       "      <td>...</td>\n",
       "      <td>...</td>\n",
       "      <td>...</td>\n",
       "      <td>...</td>\n",
       "    </tr>\n",
       "    <tr>\n",
       "      <th>870452</th>\n",
       "      <td>570072268180146</td>\n",
       "      <td>中国</td>\n",
       "      <td>湖南</td>\n",
       "      <td>长沙</td>\n",
       "      <td>新一线城市</td>\n",
       "      <td>0</td>\n",
       "      <td>2023-06-30</td>\n",
       "      <td>2023-06-30</td>\n",
       "      <td>NaT</td>\n",
       "      <td>NaT</td>\n",
       "      <td>0</td>\n",
       "    </tr>\n",
       "    <tr>\n",
       "      <th>870453</th>\n",
       "      <td>570072163840123</td>\n",
       "      <td>中国</td>\n",
       "      <td>天津</td>\n",
       "      <td>天津</td>\n",
       "      <td>新一线城市</td>\n",
       "      <td>0</td>\n",
       "      <td>2023-06-29</td>\n",
       "      <td>2023-06-29</td>\n",
       "      <td>NaT</td>\n",
       "      <td>NaT</td>\n",
       "      <td>0</td>\n",
       "    </tr>\n",
       "    <tr>\n",
       "      <th>870455</th>\n",
       "      <td>570072597650156</td>\n",
       "      <td>中国</td>\n",
       "      <td>重庆</td>\n",
       "      <td>重庆</td>\n",
       "      <td>新一线城市</td>\n",
       "      <td>0</td>\n",
       "      <td>2023-06-30</td>\n",
       "      <td>2023-06-30</td>\n",
       "      <td>NaT</td>\n",
       "      <td>NaT</td>\n",
       "      <td>0</td>\n",
       "    </tr>\n",
       "    <tr>\n",
       "      <th>870456</th>\n",
       "      <td>570072523900118</td>\n",
       "      <td>中国</td>\n",
       "      <td>山东</td>\n",
       "      <td>潍坊</td>\n",
       "      <td>三线城市</td>\n",
       "      <td>0</td>\n",
       "      <td>2023-06-30</td>\n",
       "      <td>2023-08-03</td>\n",
       "      <td>NaT</td>\n",
       "      <td>NaT</td>\n",
       "      <td>0</td>\n",
       "    </tr>\n",
       "    <tr>\n",
       "      <th>870459</th>\n",
       "      <td>570072529930156</td>\n",
       "      <td>中国</td>\n",
       "      <td>湖北</td>\n",
       "      <td>黄冈</td>\n",
       "      <td>四线城市</td>\n",
       "      <td>0</td>\n",
       "      <td>2023-06-30</td>\n",
       "      <td>2023-06-30</td>\n",
       "      <td>NaT</td>\n",
       "      <td>NaT</td>\n",
       "      <td>0</td>\n",
       "    </tr>\n",
       "  </tbody>\n",
       "</table>\n",
       "<p>562272 rows × 11 columns</p>\n",
       "</div>"
      ],
      "text/plain": [
       "                user_id country province_name city_name city_level  \\\n",
       "0       570009353210116      中国            山东        潍坊       三线城市   \n",
       "9       570023426180132      中国            北京        北京       一线城市   \n",
       "12      570025239650135      中国            上海        上海       一线城市   \n",
       "17      570026463920104      中国           黑龙江       哈尔滨       二线城市   \n",
       "18      570027668630107      中国            四川        成都      新一线城市   \n",
       "...                 ...     ...           ...       ...        ...   \n",
       "870452  570072268180146      中国            湖南        长沙      新一线城市   \n",
       "870453  570072163840123      中国            天津        天津      新一线城市   \n",
       "870455  570072597650156      中国            重庆        重庆      新一线城市   \n",
       "870456  570072523900118      中国            山东        潍坊       三线城市   \n",
       "870459  570072529930156      中国            湖北        黄冈       四线城市   \n",
       "\n",
       "        is_member_flag  first_day   last_day      be_member_time  \\\n",
       "0                    1 2023-04-03 2023-08-02 2023-04-03 19:42:00   \n",
       "9                    0 2023-03-04 2023-03-09                 NaT   \n",
       "12                   1 2023-03-08 2023-08-17 2023-07-15 18:25:00   \n",
       "17                   1        NaT 2023-07-18 2022-08-16 14:37:00   \n",
       "18                   0 2023-03-25 2023-03-25                 NaT   \n",
       "...                ...        ...        ...                 ...   \n",
       "870452               0 2023-06-30 2023-06-30                 NaT   \n",
       "870453               0 2023-06-29 2023-06-29                 NaT   \n",
       "870455               0 2023-06-30 2023-06-30                 NaT   \n",
       "870456               0 2023-06-30 2023-08-03                 NaT   \n",
       "870459               0 2023-06-30 2023-06-30                 NaT   \n",
       "\n",
       "                renew_time  is_renew  \n",
       "0      2024-04-02 19:42:00         0  \n",
       "9                      NaT         0  \n",
       "12     2024-07-14 18:25:00         0  \n",
       "17     2023-08-16 14:37:00         0  \n",
       "18                     NaT         0  \n",
       "...                    ...       ...  \n",
       "870452                 NaT         0  \n",
       "870453                 NaT         0  \n",
       "870455                 NaT         0  \n",
       "870456                 NaT         0  \n",
       "870459                 NaT         0  \n",
       "\n",
       "[562272 rows x 11 columns]"
      ]
     },
     "execution_count": 117,
     "metadata": {},
     "output_type": "execute_result"
    }
   ],
   "source": [
    "user_df"
   ]
  },
  {
   "cell_type": "code",
   "execution_count": 121,
   "id": "aae25991-60a1-40b4-9673-71f36fe1f3b0",
   "metadata": {},
   "outputs": [
    {
     "data": {
      "text/html": [
       "<div>\n",
       "<style scoped>\n",
       "    .dataframe tbody tr th:only-of-type {\n",
       "        vertical-align: middle;\n",
       "    }\n",
       "\n",
       "    .dataframe tbody tr th {\n",
       "        vertical-align: top;\n",
       "    }\n",
       "\n",
       "    .dataframe thead th {\n",
       "        text-align: right;\n",
       "    }\n",
       "</style>\n",
       "<table border=\"1\" class=\"dataframe\">\n",
       "  <thead>\n",
       "    <tr style=\"text-align: right;\">\n",
       "      <th></th>\n",
       "      <th>user_id</th>\n",
       "      <th>country</th>\n",
       "      <th>province_name</th>\n",
       "      <th>city_name</th>\n",
       "      <th>city_level</th>\n",
       "      <th>is_member_flag</th>\n",
       "      <th>first_day</th>\n",
       "      <th>last_day</th>\n",
       "      <th>be_member_time</th>\n",
       "      <th>renew_time</th>\n",
       "      <th>is_renew</th>\n",
       "    </tr>\n",
       "  </thead>\n",
       "  <tbody>\n",
       "    <tr>\n",
       "      <th>870459</th>\n",
       "      <td>570072529930156</td>\n",
       "      <td>中国</td>\n",
       "      <td>湖北</td>\n",
       "      <td>黄冈</td>\n",
       "      <td>四线城市</td>\n",
       "      <td>0</td>\n",
       "      <td>2023-06-30</td>\n",
       "      <td>2023-06-30</td>\n",
       "      <td>NaT</td>\n",
       "      <td>NaT</td>\n",
       "      <td>0</td>\n",
       "    </tr>\n",
       "  </tbody>\n",
       "</table>\n",
       "</div>"
      ],
      "text/plain": [
       "                user_id country province_name city_name city_level  \\\n",
       "870459  570072529930156      中国            湖北        黄冈       四线城市   \n",
       "\n",
       "        is_member_flag  first_day   last_day be_member_time renew_time  \\\n",
       "870459               0 2023-06-30 2023-06-30            NaT        NaT   \n",
       "\n",
       "        is_renew  \n",
       "870459         0  "
      ]
     },
     "execution_count": 121,
     "metadata": {},
     "output_type": "execute_result"
    }
   ],
   "source": [
    "user_df[user_df['user_id'] == 570072529930156]"
   ]
  },
  {
   "cell_type": "code",
   "execution_count": null,
   "id": "00ec0914-9183-4b6f-be38-e6f36482d695",
   "metadata": {},
   "outputs": [],
   "source": []
  }
 ],
 "metadata": {
  "kernelspec": {
   "display_name": "Python 3 (ipykernel)",
   "language": "python",
   "name": "python3"
  },
  "language_info": {
   "codemirror_mode": {
    "name": "ipython",
    "version": 3
   },
   "file_extension": ".py",
   "mimetype": "text/x-python",
   "name": "python",
   "nbconvert_exporter": "python",
   "pygments_lexer": "ipython3",
   "version": "3.12.8"
  },
  "toc": {
   "base_numbering": 1,
   "nav_menu": {},
   "number_sections": true,
   "sideBar": true,
   "skip_h1_title": false,
   "title_cell": "Table of Contents",
   "title_sidebar": "Contents",
   "toc_cell": false,
   "toc_position": {},
   "toc_section_display": true,
   "toc_window_display": false
  }
 },
 "nbformat": 4,
 "nbformat_minor": 5
}
